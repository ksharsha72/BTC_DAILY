{
 "cells": [
  {
   "cell_type": "code",
   "execution_count": 5,
   "metadata": {},
   "outputs": [],
   "source": [
    "import pandas as pd\n",
    "import numpy as np\n",
    "\n",
    "data = pd.read_csv('../../../Downloads/Covid_Dataset.csv')"
   ]
  },
  {
   "cell_type": "code",
   "execution_count": 4,
   "metadata": {},
   "outputs": [],
   "source": [
    "label = \"COVID-19\""
   ]
  },
  {
   "cell_type": "code",
   "execution_count": 9,
   "metadata": {},
   "outputs": [],
   "source": [
    "_,counts = np.unique(data[label],return_counts=True)"
   ]
  },
  {
   "cell_type": "code",
   "execution_count": 11,
   "metadata": {},
   "outputs": [],
   "source": [
    "probs = counts/len(label)"
   ]
  },
  {
   "cell_type": "code",
   "execution_count": 14,
   "metadata": {},
   "outputs": [
    {
     "data": {
      "text/plain": [
       "Index(['Breathing Problem', 'Fever', 'Dry Cough', 'Sore throat',\n",
       "       'Running Nose', 'Asthma', 'Chronic Lung Disease', 'Headache',\n",
       "       'Heart Disease', 'Diabetes', 'Hyper Tension', 'Fatigue ',\n",
       "       'Gastrointestinal ', 'Abroad travel', 'Contact with COVID Patient',\n",
       "       'Attended Large Gathering', 'Visited Public Exposed Places',\n",
       "       'Family working in Public Exposed Places', 'Wearing Masks',\n",
       "       'Sanitization from Market'],\n",
       "      dtype='object')"
      ]
     },
     "execution_count": 14,
     "metadata": {},
     "output_type": "execute_result"
    }
   ],
   "source": [
    "data.columns[:-1]"
   ]
  },
  {
   "cell_type": "code",
   "execution_count": null,
   "metadata": {},
   "outputs": [],
   "source": [
    "for feature in data.columns[:-1]:\n",
    "    entropy_feature = 0\n",
    "    for value in data[feature].unique():\n",
    "        subset = data[data[feature]==value]\n",
    "        proportion = len(subset)/len(data)\n",
    "        entropy_feature += proportion * self.entropy(subset[label])\n",
    "    info_gain  = self.information_gain(data,feature,label)"
   ]
  },
  {
   "cell_type": "code",
   "execution_count": 15,
   "metadata": {},
   "outputs": [],
   "source": [
    "def entropy(self,labels):\n",
    "    _,counts = np.unique(labels,return_counts=True)\n",
    "    probs = counts/len(labels)\n",
    "    return -np.sum(probs * np.log2(probs))"
   ]
  },
  {
   "cell_type": "code",
   "execution_count": 45,
   "metadata": {},
   "outputs": [],
   "source": [
    "def information_gain(data,feature,label):\n",
    "    feature_entropy = 0\n",
    "    print(\"************************\")\n",
    "    print(feature)\n",
    "    for value in data[feature].unique():\n",
    "        print(\"------------------------------\")\n",
    "        print(data)\n",
    "        print(data[feature==value])\n",
    "        subset = data[data[feature]==value].unique()\n",
    "        proportion = len(subset)/len(data)\n",
    "        feature_entropy = proportion(entropy(subset[label]))\n",
    "        return entropy(data[label]) - feature_entropy\n",
    "\n"
   ]
  },
  {
   "cell_type": "code",
   "execution_count": 32,
   "metadata": {},
   "outputs": [],
   "source": [
    "def _build_tree(data,label,parent=None,edge_label=None):\n",
    "    if len(data[label].unique()) == 1:\n",
    "        value = data[label].unique()[0]\n",
    "        return str(value)\n",
    "    elif len(data.columns) == 1:\n",
    "        value = data[label].value_counts().idmax()\n",
    "        return str(value)\n",
    "    else:\n",
    "        best_features =  max(data.columns[:-1], key = lambda feature: information_gain(data,feature,label)) \n",
    "        tree = {best_feature:{}}\n",
    "        for value in best_feature.unique():\n",
    "            subset = data[data[best_feature]==value]\n",
    "            tree[best_feature][value] = _build_tree(subset.drop(best_feature,axis=1),label,best_feature,value)\n",
    "        return tree"
   ]
  },
  {
   "cell_type": "code",
   "execution_count": 19,
   "metadata": {},
   "outputs": [],
   "source": [
    "def build_tree(self):\n",
    "    return self._build_tree(self.data,self.labels)"
   ]
  },
  {
   "cell_type": "code",
   "execution_count": 20,
   "metadata": {},
   "outputs": [],
   "source": [
    "from decision_tree import Decision_Tree"
   ]
  },
  {
   "cell_type": "code",
   "execution_count": 21,
   "metadata": {},
   "outputs": [],
   "source": [
    "dt = Decision_Tree(data,label)"
   ]
  },
  {
   "cell_type": "code",
   "execution_count": 43,
   "metadata": {},
   "outputs": [],
   "source": [
    "# tree = dt.build_tree()\n",
    "# node = tree"
   ]
  },
  {
   "cell_type": "code",
   "execution_count": 46,
   "metadata": {},
   "outputs": [
    {
     "name": "stdout",
     "output_type": "stream",
     "text": [
      "------------------------------\n",
      "     Breathing Problem Fever Dry Cough Sore throat Running Nose Asthma  \\\n",
      "0                  Yes   Yes       Yes         Yes          Yes     No   \n",
      "1                  Yes   Yes       Yes         Yes           No    Yes   \n",
      "2                  Yes   Yes       Yes         Yes          Yes    Yes   \n",
      "3                  Yes   Yes       Yes          No           No    Yes   \n",
      "4                  Yes   Yes       Yes         Yes          Yes     No   \n",
      "...                ...   ...       ...         ...          ...    ...   \n",
      "5429               Yes   Yes        No         Yes          Yes    Yes   \n",
      "5430               Yes   Yes       Yes          No          Yes    Yes   \n",
      "5431               Yes   Yes       Yes          No           No     No   \n",
      "5432               Yes   Yes       Yes          No          Yes     No   \n",
      "5433               Yes   Yes       Yes          No          Yes    Yes   \n",
      "\n",
      "     Chronic Lung Disease Headache Heart Disease Diabetes  ... Fatigue   \\\n",
      "0                      No       No            No      Yes  ...      Yes   \n",
      "1                     Yes      Yes            No       No  ...      Yes   \n",
      "2                     Yes      Yes            No      Yes  ...      Yes   \n",
      "3                      No       No           Yes      Yes  ...       No   \n",
      "4                     Yes      Yes           Yes      Yes  ...       No   \n",
      "...                   ...      ...           ...      ...  ...      ...   \n",
      "5429                  Yes       No            No       No  ...      Yes   \n",
      "5430                   No      Yes            No      Yes  ...      Yes   \n",
      "5431                   No       No           Yes       No  ...       No   \n",
      "5432                   No      Yes           Yes       No  ...       No   \n",
      "5433                   No      Yes            No      Yes  ...      Yes   \n",
      "\n",
      "     Gastrointestinal  Abroad travel Contact with COVID Patient  \\\n",
      "0                  Yes            No                        Yes   \n",
      "1                   No            No                         No   \n",
      "2                  Yes           Yes                         No   \n",
      "3                   No           Yes                         No   \n",
      "4                  Yes            No                        Yes   \n",
      "...                ...           ...                        ...   \n",
      "5429               Yes            No                         No   \n",
      "5430                No            No                         No   \n",
      "5431                No            No                         No   \n",
      "5432                No            No                         No   \n",
      "5433                No            No                         No   \n",
      "\n",
      "     Attended Large Gathering Visited Public Exposed Places  \\\n",
      "0                          No                           Yes   \n",
      "1                         Yes                           Yes   \n",
      "2                          No                            No   \n",
      "3                         Yes                           Yes   \n",
      "4                          No                           Yes   \n",
      "...                       ...                           ...   \n",
      "5429                       No                            No   \n",
      "5430                       No                            No   \n",
      "5431                       No                            No   \n",
      "5432                       No                            No   \n",
      "5433                       No                            No   \n",
      "\n",
      "     Family working in Public Exposed Places Wearing Masks  \\\n",
      "0                                        Yes            No   \n",
      "1                                         No            No   \n",
      "2                                         No            No   \n",
      "3                                         No            No   \n",
      "4                                         No            No   \n",
      "...                                      ...           ...   \n",
      "5429                                      No            No   \n",
      "5430                                      No            No   \n",
      "5431                                      No            No   \n",
      "5432                                      No            No   \n",
      "5433                                      No            No   \n",
      "\n",
      "     Sanitization from Market COVID-19  \n",
      "0                          No      Yes  \n",
      "1                          No      Yes  \n",
      "2                          No      Yes  \n",
      "3                          No      Yes  \n",
      "4                          No      Yes  \n",
      "...                       ...      ...  \n",
      "5429                       No      Yes  \n",
      "5430                       No      Yes  \n",
      "5431                       No       No  \n",
      "5432                       No       No  \n",
      "5433                       No       No  \n",
      "\n",
      "[5434 rows x 21 columns]\n"
     ]
    },
    {
     "ename": "KeyError",
     "evalue": "False",
     "output_type": "error",
     "traceback": [
      "\u001b[1;31m---------------------------------------------------------------------------\u001b[0m",
      "\u001b[1;31mKeyError\u001b[0m                                  Traceback (most recent call last)",
      "File \u001b[1;32m~\\AppData\\Roaming\\Python\\Python310\\site-packages\\pandas\\core\\indexes\\base.py:3802\u001b[0m, in \u001b[0;36mIndex.get_loc\u001b[1;34m(self, key, method, tolerance)\u001b[0m\n\u001b[0;32m   3801\u001b[0m \u001b[39mtry\u001b[39;00m:\n\u001b[1;32m-> 3802\u001b[0m     \u001b[39mreturn\u001b[39;00m \u001b[39mself\u001b[39;49m\u001b[39m.\u001b[39;49m_engine\u001b[39m.\u001b[39;49mget_loc(casted_key)\n\u001b[0;32m   3803\u001b[0m \u001b[39mexcept\u001b[39;00m \u001b[39mKeyError\u001b[39;00m \u001b[39mas\u001b[39;00m err:\n",
      "File \u001b[1;32m~\\AppData\\Roaming\\Python\\Python310\\site-packages\\pandas\\_libs\\index.pyx:138\u001b[0m, in \u001b[0;36mpandas._libs.index.IndexEngine.get_loc\u001b[1;34m()\u001b[0m\n",
      "File \u001b[1;32m~\\AppData\\Roaming\\Python\\Python310\\site-packages\\pandas\\_libs\\index.pyx:165\u001b[0m, in \u001b[0;36mpandas._libs.index.IndexEngine.get_loc\u001b[1;34m()\u001b[0m\n",
      "File \u001b[1;32mpandas\\_libs\\hashtable_class_helper.pxi:5745\u001b[0m, in \u001b[0;36mpandas._libs.hashtable.PyObjectHashTable.get_item\u001b[1;34m()\u001b[0m\n",
      "File \u001b[1;32mpandas\\_libs\\hashtable_class_helper.pxi:5753\u001b[0m, in \u001b[0;36mpandas._libs.hashtable.PyObjectHashTable.get_item\u001b[1;34m()\u001b[0m\n",
      "\u001b[1;31mKeyError\u001b[0m: False",
      "\nThe above exception was the direct cause of the following exception:\n",
      "\u001b[1;31mKeyError\u001b[0m                                  Traceback (most recent call last)",
      "\u001b[1;32mc:\\Users\\SriHarsha\\Desktop\\BTC_DAILY\\COVID-19 DecisionTree Chatbot\\chatbot_exp.ipynb Cell 14\u001b[0m line \u001b[0;36m1\n\u001b[1;32m----> <a href='vscode-notebook-cell:/c%3A/Users/SriHarsha/Desktop/BTC_DAILY/COVID-19%20DecisionTree%20Chatbot/chatbot_exp.ipynb#X16sZmlsZQ%3D%3D?line=0'>1</a>\u001b[0m \u001b[39mmax\u001b[39;49m(data[:\u001b[39m-\u001b[39;49m\u001b[39m1\u001b[39;49m],key\u001b[39m=\u001b[39;49m\u001b[39mlambda\u001b[39;49;00m feature: information_gain(data,feature,label))\n",
      "\u001b[1;32mc:\\Users\\SriHarsha\\Desktop\\BTC_DAILY\\COVID-19 DecisionTree Chatbot\\chatbot_exp.ipynb Cell 14\u001b[0m line \u001b[0;36m1\n\u001b[1;32m----> <a href='vscode-notebook-cell:/c%3A/Users/SriHarsha/Desktop/BTC_DAILY/COVID-19%20DecisionTree%20Chatbot/chatbot_exp.ipynb#X16sZmlsZQ%3D%3D?line=0'>1</a>\u001b[0m \u001b[39mmax\u001b[39m(data[:\u001b[39m-\u001b[39m\u001b[39m1\u001b[39m],key\u001b[39m=\u001b[39m\u001b[39mlambda\u001b[39;00m feature: information_gain(data,feature,label))\n",
      "\u001b[1;32mc:\\Users\\SriHarsha\\Desktop\\BTC_DAILY\\COVID-19 DecisionTree Chatbot\\chatbot_exp.ipynb Cell 14\u001b[0m line \u001b[0;36m6\n\u001b[0;32m      <a href='vscode-notebook-cell:/c%3A/Users/SriHarsha/Desktop/BTC_DAILY/COVID-19%20DecisionTree%20Chatbot/chatbot_exp.ipynb#X16sZmlsZQ%3D%3D?line=3'>4</a>\u001b[0m \u001b[39mprint\u001b[39m(\u001b[39m\"\u001b[39m\u001b[39m------------------------------\u001b[39m\u001b[39m\"\u001b[39m)\n\u001b[0;32m      <a href='vscode-notebook-cell:/c%3A/Users/SriHarsha/Desktop/BTC_DAILY/COVID-19%20DecisionTree%20Chatbot/chatbot_exp.ipynb#X16sZmlsZQ%3D%3D?line=4'>5</a>\u001b[0m \u001b[39mprint\u001b[39m(data)\n\u001b[1;32m----> <a href='vscode-notebook-cell:/c%3A/Users/SriHarsha/Desktop/BTC_DAILY/COVID-19%20DecisionTree%20Chatbot/chatbot_exp.ipynb#X16sZmlsZQ%3D%3D?line=5'>6</a>\u001b[0m \u001b[39mprint\u001b[39m(data[feature\u001b[39m==\u001b[39;49mvalue])\n\u001b[0;32m      <a href='vscode-notebook-cell:/c%3A/Users/SriHarsha/Desktop/BTC_DAILY/COVID-19%20DecisionTree%20Chatbot/chatbot_exp.ipynb#X16sZmlsZQ%3D%3D?line=6'>7</a>\u001b[0m subset \u001b[39m=\u001b[39m data[data[feature]\u001b[39m==\u001b[39mvalue]\u001b[39m.\u001b[39munique()\n\u001b[0;32m      <a href='vscode-notebook-cell:/c%3A/Users/SriHarsha/Desktop/BTC_DAILY/COVID-19%20DecisionTree%20Chatbot/chatbot_exp.ipynb#X16sZmlsZQ%3D%3D?line=7'>8</a>\u001b[0m proportion \u001b[39m=\u001b[39m \u001b[39mlen\u001b[39m(subset)\u001b[39m/\u001b[39m\u001b[39mlen\u001b[39m(data)\n",
      "File \u001b[1;32m~\\AppData\\Roaming\\Python\\Python310\\site-packages\\pandas\\core\\frame.py:3807\u001b[0m, in \u001b[0;36mDataFrame.__getitem__\u001b[1;34m(self, key)\u001b[0m\n\u001b[0;32m   3805\u001b[0m \u001b[39mif\u001b[39;00m \u001b[39mself\u001b[39m\u001b[39m.\u001b[39mcolumns\u001b[39m.\u001b[39mnlevels \u001b[39m>\u001b[39m \u001b[39m1\u001b[39m:\n\u001b[0;32m   3806\u001b[0m     \u001b[39mreturn\u001b[39;00m \u001b[39mself\u001b[39m\u001b[39m.\u001b[39m_getitem_multilevel(key)\n\u001b[1;32m-> 3807\u001b[0m indexer \u001b[39m=\u001b[39m \u001b[39mself\u001b[39;49m\u001b[39m.\u001b[39;49mcolumns\u001b[39m.\u001b[39;49mget_loc(key)\n\u001b[0;32m   3808\u001b[0m \u001b[39mif\u001b[39;00m is_integer(indexer):\n\u001b[0;32m   3809\u001b[0m     indexer \u001b[39m=\u001b[39m [indexer]\n",
      "File \u001b[1;32m~\\AppData\\Roaming\\Python\\Python310\\site-packages\\pandas\\core\\indexes\\base.py:3804\u001b[0m, in \u001b[0;36mIndex.get_loc\u001b[1;34m(self, key, method, tolerance)\u001b[0m\n\u001b[0;32m   3802\u001b[0m     \u001b[39mreturn\u001b[39;00m \u001b[39mself\u001b[39m\u001b[39m.\u001b[39m_engine\u001b[39m.\u001b[39mget_loc(casted_key)\n\u001b[0;32m   3803\u001b[0m \u001b[39mexcept\u001b[39;00m \u001b[39mKeyError\u001b[39;00m \u001b[39mas\u001b[39;00m err:\n\u001b[1;32m-> 3804\u001b[0m     \u001b[39mraise\u001b[39;00m \u001b[39mKeyError\u001b[39;00m(key) \u001b[39mfrom\u001b[39;00m \u001b[39merr\u001b[39;00m\n\u001b[0;32m   3805\u001b[0m \u001b[39mexcept\u001b[39;00m \u001b[39mTypeError\u001b[39;00m:\n\u001b[0;32m   3806\u001b[0m     \u001b[39m# If we have a listlike key, _check_indexing_error will raise\u001b[39;00m\n\u001b[0;32m   3807\u001b[0m     \u001b[39m#  InvalidIndexError. Otherwise we fall through and re-raise\u001b[39;00m\n\u001b[0;32m   3808\u001b[0m     \u001b[39m#  the TypeError.\u001b[39;00m\n\u001b[0;32m   3809\u001b[0m     \u001b[39mself\u001b[39m\u001b[39m.\u001b[39m_check_indexing_error(key)\n",
      "\u001b[1;31mKeyError\u001b[0m: False"
     ]
    }
   ],
   "source": [
    "max(data[:-1],key=lambda feature: information_gain(data,feature,label))"
   ]
  },
  {
   "cell_type": "code",
   "execution_count": null,
   "metadata": {},
   "outputs": [],
   "source": []
  },
  {
   "cell_type": "code",
   "execution_count": null,
   "metadata": {},
   "outputs": [],
   "source": []
  }
 ],
 "metadata": {
  "kernelspec": {
   "display_name": "Python 3",
   "language": "python",
   "name": "python3"
  },
  "language_info": {
   "codemirror_mode": {
    "name": "ipython",
    "version": 3
   },
   "file_extension": ".py",
   "mimetype": "text/x-python",
   "name": "python",
   "nbconvert_exporter": "python",
   "pygments_lexer": "ipython3",
   "version": "3.10.0"
  }
 },
 "nbformat": 4,
 "nbformat_minor": 2
}
